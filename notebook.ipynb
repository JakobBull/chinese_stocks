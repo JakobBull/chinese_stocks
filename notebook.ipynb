{
 "cells": [
  {
   "cell_type": "code",
   "execution_count": 4,
   "id": "executive-round",
   "metadata": {},
   "outputs": [],
   "source": [
    "\n",
    "import pandas as pd\n",
    "from portfolio import Portfolio\n",
    "from strategies.nfixedbaskets import StrategyNFixedBaskets\n",
    "from strategies.lasso_factors import StrategyLassoFactors\n",
    "\n",
    "import warnings\n",
    "warnings.filterwarnings('ignore')"
   ]
  },
  {
   "cell_type": "code",
   "execution_count": 5,
   "id": "informative-earthquake",
   "metadata": {},
   "outputs": [
    {
     "data": {
      "text/html": [
       "<div>\n",
       "<style scoped>\n",
       "    .dataframe tbody tr th:only-of-type {\n",
       "        vertical-align: middle;\n",
       "    }\n",
       "\n",
       "    .dataframe tbody tr th {\n",
       "        vertical-align: top;\n",
       "    }\n",
       "\n",
       "    .dataframe thead th {\n",
       "        text-align: right;\n",
       "    }\n",
       "</style>\n",
       "<table border=\"1\" class=\"dataframe\">\n",
       "  <thead>\n",
       "    <tr style=\"text-align: right;\">\n",
       "      <th></th>\n",
       "      <th>Unnamed: 0</th>\n",
       "      <th>order_book_id</th>\n",
       "      <th>date</th>\n",
       "      <th>AT</th>\n",
       "      <th>dolvol</th>\n",
       "      <th>D2A</th>\n",
       "      <th>Free_CF</th>\n",
       "      <th>OL</th>\n",
       "      <th>ATO</th>\n",
       "      <th>egr</th>\n",
       "      <th>...</th>\n",
       "      <th>Mdp</th>\n",
       "      <th>FC2Y</th>\n",
       "      <th>roa</th>\n",
       "      <th>r_12_7</th>\n",
       "      <th>Lturnover</th>\n",
       "      <th>operprof</th>\n",
       "      <th>saleinv</th>\n",
       "      <th>PM</th>\n",
       "      <th>S2P</th>\n",
       "      <th>exret</th>\n",
       "    </tr>\n",
       "  </thead>\n",
       "  <tbody>\n",
       "    <tr>\n",
       "      <th>0</th>\n",
       "      <td>0.0</td>\n",
       "      <td>000001.XSHE</td>\n",
       "      <td>2006-12-29</td>\n",
       "      <td>0.994030</td>\n",
       "      <td>0.984080</td>\n",
       "      <td>-0.964179</td>\n",
       "      <td>0.219900</td>\n",
       "      <td>-0.005970</td>\n",
       "      <td>-0.996020</td>\n",
       "      <td>-0.351244</td>\n",
       "      <td>...</td>\n",
       "      <td>0.000995</td>\n",
       "      <td>0.021891</td>\n",
       "      <td>-0.430846</td>\n",
       "      <td>-0.755224</td>\n",
       "      <td>0.787065</td>\n",
       "      <td>0.381095</td>\n",
       "      <td>0.003980</td>\n",
       "      <td>0.397015</td>\n",
       "      <td>-0.329353</td>\n",
       "      <td>0.320314</td>\n",
       "    </tr>\n",
       "    <tr>\n",
       "      <th>1</th>\n",
       "      <td>1.0</td>\n",
       "      <td>000001.XSHE</td>\n",
       "      <td>2007-01-31</td>\n",
       "      <td>0.994042</td>\n",
       "      <td>0.986097</td>\n",
       "      <td>-0.964250</td>\n",
       "      <td>0.219464</td>\n",
       "      <td>-0.012910</td>\n",
       "      <td>-0.996028</td>\n",
       "      <td>-0.346574</td>\n",
       "      <td>...</td>\n",
       "      <td>0.000993</td>\n",
       "      <td>0.012910</td>\n",
       "      <td>-0.424032</td>\n",
       "      <td>-0.809335</td>\n",
       "      <td>0.751738</td>\n",
       "      <td>0.368421</td>\n",
       "      <td>-0.001986</td>\n",
       "      <td>0.384310</td>\n",
       "      <td>-0.386296</td>\n",
       "      <td>-0.005894</td>\n",
       "    </tr>\n",
       "    <tr>\n",
       "      <th>2</th>\n",
       "      <td>2.0</td>\n",
       "      <td>000001.XSHE</td>\n",
       "      <td>2007-02-28</td>\n",
       "      <td>0.994030</td>\n",
       "      <td>0.986070</td>\n",
       "      <td>-0.958209</td>\n",
       "      <td>0.211940</td>\n",
       "      <td>-0.007960</td>\n",
       "      <td>-0.994030</td>\n",
       "      <td>-0.375124</td>\n",
       "      <td>...</td>\n",
       "      <td>0.000995</td>\n",
       "      <td>0.015920</td>\n",
       "      <td>-0.430846</td>\n",
       "      <td>-0.779104</td>\n",
       "      <td>0.615920</td>\n",
       "      <td>0.353234</td>\n",
       "      <td>-0.009950</td>\n",
       "      <td>0.367164</td>\n",
       "      <td>-0.297512</td>\n",
       "      <td>-0.010693</td>\n",
       "    </tr>\n",
       "    <tr>\n",
       "      <th>3</th>\n",
       "      <td>3.0</td>\n",
       "      <td>000001.XSHE</td>\n",
       "      <td>2007-03-30</td>\n",
       "      <td>0.990225</td>\n",
       "      <td>0.974585</td>\n",
       "      <td>-0.962854</td>\n",
       "      <td>0.216031</td>\n",
       "      <td>-0.002933</td>\n",
       "      <td>-0.990225</td>\n",
       "      <td>0.859238</td>\n",
       "      <td>...</td>\n",
       "      <td>0.000978</td>\n",
       "      <td>0.004888</td>\n",
       "      <td>-0.448680</td>\n",
       "      <td>-0.442815</td>\n",
       "      <td>0.298143</td>\n",
       "      <td>0.108504</td>\n",
       "      <td>-0.001955</td>\n",
       "      <td>0.362659</td>\n",
       "      <td>-0.436950</td>\n",
       "      <td>0.372638</td>\n",
       "    </tr>\n",
       "    <tr>\n",
       "      <th>4</th>\n",
       "      <td>4.0</td>\n",
       "      <td>000001.XSHE</td>\n",
       "      <td>2008-03-31</td>\n",
       "      <td>0.990645</td>\n",
       "      <td>0.985033</td>\n",
       "      <td>-0.977549</td>\n",
       "      <td>0.438728</td>\n",
       "      <td>-0.004677</td>\n",
       "      <td>-0.985033</td>\n",
       "      <td>0.900842</td>\n",
       "      <td>...</td>\n",
       "      <td>0.000935</td>\n",
       "      <td>0.014032</td>\n",
       "      <td>-0.519177</td>\n",
       "      <td>0.711880</td>\n",
       "      <td>0.745557</td>\n",
       "      <td>0.111319</td>\n",
       "      <td>-0.005613</td>\n",
       "      <td>0.610851</td>\n",
       "      <td>-0.438728</td>\n",
       "      <td>0.047803</td>\n",
       "    </tr>\n",
       "    <tr>\n",
       "      <th>...</th>\n",
       "      <td>...</td>\n",
       "      <td>...</td>\n",
       "      <td>...</td>\n",
       "      <td>...</td>\n",
       "      <td>...</td>\n",
       "      <td>...</td>\n",
       "      <td>...</td>\n",
       "      <td>...</td>\n",
       "      <td>...</td>\n",
       "      <td>...</td>\n",
       "      <td>...</td>\n",
       "      <td>...</td>\n",
       "      <td>...</td>\n",
       "      <td>...</td>\n",
       "      <td>...</td>\n",
       "      <td>...</td>\n",
       "      <td>...</td>\n",
       "      <td>...</td>\n",
       "      <td>...</td>\n",
       "      <td>...</td>\n",
       "      <td>...</td>\n",
       "    </tr>\n",
       "    <tr>\n",
       "      <th>27515</th>\n",
       "      <td>27515.0</td>\n",
       "      <td>000600.XSHE</td>\n",
       "      <td>2022-07-29</td>\n",
       "      <td>0.747943</td>\n",
       "      <td>0.838763</td>\n",
       "      <td>0.747285</td>\n",
       "      <td>-0.351102</td>\n",
       "      <td>0.086542</td>\n",
       "      <td>0.556433</td>\n",
       "      <td>-0.851267</td>\n",
       "      <td>...</td>\n",
       "      <td>0.000329</td>\n",
       "      <td>-0.552484</td>\n",
       "      <td>-0.247779</td>\n",
       "      <td>-0.156960</td>\n",
       "      <td>0.924975</td>\n",
       "      <td>-0.081935</td>\n",
       "      <td>0.681474</td>\n",
       "      <td>-0.725568</td>\n",
       "      <td>0.834156</td>\n",
       "      <td>-0.045190</td>\n",
       "    </tr>\n",
       "    <tr>\n",
       "      <th>27516</th>\n",
       "      <td>27516.0</td>\n",
       "      <td>000600.XSHE</td>\n",
       "      <td>2022-08-31</td>\n",
       "      <td>0.736097</td>\n",
       "      <td>0.434024</td>\n",
       "      <td>0.565647</td>\n",
       "      <td>-0.639355</td>\n",
       "      <td>0.153011</td>\n",
       "      <td>0.562356</td>\n",
       "      <td>-0.858506</td>\n",
       "      <td>...</td>\n",
       "      <td>0.000329</td>\n",
       "      <td>-0.533399</td>\n",
       "      <td>-0.665679</td>\n",
       "      <td>-0.048371</td>\n",
       "      <td>0.417572</td>\n",
       "      <td>-0.080619</td>\n",
       "      <td>0.680816</td>\n",
       "      <td>-0.584074</td>\n",
       "      <td>0.853241</td>\n",
       "      <td>-0.088574</td>\n",
       "    </tr>\n",
       "    <tr>\n",
       "      <th>27517</th>\n",
       "      <td>27517.0</td>\n",
       "      <td>000600.XSHE</td>\n",
       "      <td>2022-09-30</td>\n",
       "      <td>0.736704</td>\n",
       "      <td>0.406435</td>\n",
       "      <td>0.565988</td>\n",
       "      <td>-0.638214</td>\n",
       "      <td>0.152331</td>\n",
       "      <td>0.563362</td>\n",
       "      <td>-0.857518</td>\n",
       "      <td>...</td>\n",
       "      <td>0.000328</td>\n",
       "      <td>-0.533158</td>\n",
       "      <td>-0.665791</td>\n",
       "      <td>-0.863427</td>\n",
       "      <td>0.400525</td>\n",
       "      <td>-0.081418</td>\n",
       "      <td>0.680893</td>\n",
       "      <td>-0.585030</td>\n",
       "      <td>0.850952</td>\n",
       "      <td>0.164377</td>\n",
       "    </tr>\n",
       "    <tr>\n",
       "      <th>27518</th>\n",
       "      <td>27518.0</td>\n",
       "      <td>000600.XSHE</td>\n",
       "      <td>2022-10-31</td>\n",
       "      <td>0.738588</td>\n",
       "      <td>0.763547</td>\n",
       "      <td>0.764204</td>\n",
       "      <td>-0.140887</td>\n",
       "      <td>0.142857</td>\n",
       "      <td>0.585550</td>\n",
       "      <td>-0.856814</td>\n",
       "      <td>...</td>\n",
       "      <td>0.000328</td>\n",
       "      <td>-0.513957</td>\n",
       "      <td>0.388506</td>\n",
       "      <td>-0.228243</td>\n",
       "      <td>0.818719</td>\n",
       "      <td>-0.081773</td>\n",
       "      <td>0.681445</td>\n",
       "      <td>-0.650575</td>\n",
       "      <td>0.828571</td>\n",
       "      <td>0.140869</td>\n",
       "    </tr>\n",
       "    <tr>\n",
       "      <th>27519</th>\n",
       "      <td>27519.0</td>\n",
       "      <td>000600.XSHE</td>\n",
       "      <td>2022-11-30</td>\n",
       "      <td>0.738330</td>\n",
       "      <td>0.681788</td>\n",
       "      <td>0.764629</td>\n",
       "      <td>-0.142012</td>\n",
       "      <td>0.142669</td>\n",
       "      <td>0.585799</td>\n",
       "      <td>-0.857331</td>\n",
       "      <td>...</td>\n",
       "      <td>0.000329</td>\n",
       "      <td>-0.514135</td>\n",
       "      <td>0.387903</td>\n",
       "      <td>0.351085</td>\n",
       "      <td>0.669954</td>\n",
       "      <td>-0.081525</td>\n",
       "      <td>0.681131</td>\n",
       "      <td>-0.650888</td>\n",
       "      <td>0.822485</td>\n",
       "      <td>-0.105857</td>\n",
       "    </tr>\n",
       "  </tbody>\n",
       "</table>\n",
       "<p>27520 rows × 27 columns</p>\n",
       "</div>"
      ],
      "text/plain": [
       "       Unnamed: 0 order_book_id       date        AT    dolvol       D2A  \\\n",
       "0             0.0   000001.XSHE 2006-12-29  0.994030  0.984080 -0.964179   \n",
       "1             1.0   000001.XSHE 2007-01-31  0.994042  0.986097 -0.964250   \n",
       "2             2.0   000001.XSHE 2007-02-28  0.994030  0.986070 -0.958209   \n",
       "3             3.0   000001.XSHE 2007-03-30  0.990225  0.974585 -0.962854   \n",
       "4             4.0   000001.XSHE 2008-03-31  0.990645  0.985033 -0.977549   \n",
       "...           ...           ...        ...       ...       ...       ...   \n",
       "27515     27515.0   000600.XSHE 2022-07-29  0.747943  0.838763  0.747285   \n",
       "27516     27516.0   000600.XSHE 2022-08-31  0.736097  0.434024  0.565647   \n",
       "27517     27517.0   000600.XSHE 2022-09-30  0.736704  0.406435  0.565988   \n",
       "27518     27518.0   000600.XSHE 2022-10-31  0.738588  0.763547  0.764204   \n",
       "27519     27519.0   000600.XSHE 2022-11-30  0.738330  0.681788  0.764629   \n",
       "\n",
       "        Free_CF        OL       ATO       egr  ...       Mdp      FC2Y  \\\n",
       "0      0.219900 -0.005970 -0.996020 -0.351244  ...  0.000995  0.021891   \n",
       "1      0.219464 -0.012910 -0.996028 -0.346574  ...  0.000993  0.012910   \n",
       "2      0.211940 -0.007960 -0.994030 -0.375124  ...  0.000995  0.015920   \n",
       "3      0.216031 -0.002933 -0.990225  0.859238  ...  0.000978  0.004888   \n",
       "4      0.438728 -0.004677 -0.985033  0.900842  ...  0.000935  0.014032   \n",
       "...         ...       ...       ...       ...  ...       ...       ...   \n",
       "27515 -0.351102  0.086542  0.556433 -0.851267  ...  0.000329 -0.552484   \n",
       "27516 -0.639355  0.153011  0.562356 -0.858506  ...  0.000329 -0.533399   \n",
       "27517 -0.638214  0.152331  0.563362 -0.857518  ...  0.000328 -0.533158   \n",
       "27518 -0.140887  0.142857  0.585550 -0.856814  ...  0.000328 -0.513957   \n",
       "27519 -0.142012  0.142669  0.585799 -0.857331  ...  0.000329 -0.514135   \n",
       "\n",
       "            roa    r_12_7  Lturnover  operprof   saleinv        PM       S2P  \\\n",
       "0     -0.430846 -0.755224   0.787065  0.381095  0.003980  0.397015 -0.329353   \n",
       "1     -0.424032 -0.809335   0.751738  0.368421 -0.001986  0.384310 -0.386296   \n",
       "2     -0.430846 -0.779104   0.615920  0.353234 -0.009950  0.367164 -0.297512   \n",
       "3     -0.448680 -0.442815   0.298143  0.108504 -0.001955  0.362659 -0.436950   \n",
       "4     -0.519177  0.711880   0.745557  0.111319 -0.005613  0.610851 -0.438728   \n",
       "...         ...       ...        ...       ...       ...       ...       ...   \n",
       "27515 -0.247779 -0.156960   0.924975 -0.081935  0.681474 -0.725568  0.834156   \n",
       "27516 -0.665679 -0.048371   0.417572 -0.080619  0.680816 -0.584074  0.853241   \n",
       "27517 -0.665791 -0.863427   0.400525 -0.081418  0.680893 -0.585030  0.850952   \n",
       "27518  0.388506 -0.228243   0.818719 -0.081773  0.681445 -0.650575  0.828571   \n",
       "27519  0.387903  0.351085   0.669954 -0.081525  0.681131 -0.650888  0.822485   \n",
       "\n",
       "          exret  \n",
       "0      0.320314  \n",
       "1     -0.005894  \n",
       "2     -0.010693  \n",
       "3      0.372638  \n",
       "4      0.047803  \n",
       "...         ...  \n",
       "27515 -0.045190  \n",
       "27516 -0.088574  \n",
       "27517  0.164377  \n",
       "27518  0.140869  \n",
       "27519 -0.105857  \n",
       "\n",
       "[27520 rows x 27 columns]"
      ]
     },
     "execution_count": 5,
     "metadata": {},
     "output_type": "execute_result"
    }
   ],
   "source": [
    "# ---------------------------------------------------------------------------- #\n",
    "#                                     Data                                     #\n",
    "# ---------------------------------------------------------------------------- #\n",
    "X = pd.read_csv(\"data_semi.csv\")\n",
    "X=X.dropna()\n",
    "X.date = pd.to_datetime(X.date)\n",
    "X"
   ]
  },
  {
   "cell_type": "code",
   "execution_count": 8,
   "id": "6d67c547",
   "metadata": {},
   "outputs": [
    {
     "name": "stderr",
     "output_type": "stream",
     "text": [
      "100%|██████████| 70/70 [00:00<00:00, 6732.12it/s]\n"
     ]
    },
    {
     "name": "stdout",
     "output_type": "stream",
     "text": [
      "Portfolio well defined.\n"
     ]
    },
    {
     "ename": "KeyboardInterrupt",
     "evalue": "",
     "output_type": "error",
     "traceback": [
      "\u001b[0;31m---------------------------------------------------------------------------\u001b[0m",
      "\u001b[0;31mKeyboardInterrupt\u001b[0m                         Traceback (most recent call last)",
      "Cell \u001b[0;32mIn[8], line 2\u001b[0m\n\u001b[1;32m      1\u001b[0m portfolio_1 \u001b[39m=\u001b[39m Portfolio()\n\u001b[0;32m----> 2\u001b[0m portfolio_1\u001b[39m.\u001b[39;49mrun(StrategyNFixedBaskets, X)\n",
      "File \u001b[0;32m~/Documents/Yenching/Financial Econometrics/project/portfolio.py:93\u001b[0m, in \u001b[0;36mPortfolio.run\u001b[0;34m(self, strategy_method, source_data, args)\u001b[0m\n\u001b[1;32m     91\u001b[0m \u001b[39mself\u001b[39m\u001b[39m.\u001b[39mimplement_strategy(\u001b[39mself\u001b[39m\u001b[39m.\u001b[39mportfolio)\n\u001b[1;32m     92\u001b[0m \u001b[39mself\u001b[39m\u001b[39m.\u001b[39mwell_defined()\n\u001b[0;32m---> 93\u001b[0m \u001b[39mself\u001b[39;49m\u001b[39m.\u001b[39;49mactivate()\n\u001b[1;32m     94\u001b[0m \u001b[39mself\u001b[39m\u001b[39m.\u001b[39mstats[\u001b[39m'\u001b[39m\u001b[39mMean Portfolio Size\u001b[39m\u001b[39m'\u001b[39m] \u001b[39m=\u001b[39m np\u001b[39m.\u001b[39mmean([\u001b[39mlen\u001b[39m(value) \u001b[39mfor\u001b[39;00m value \u001b[39min\u001b[39;00m \u001b[39mself\u001b[39m\u001b[39m.\u001b[39mportfolio\u001b[39m.\u001b[39mvalues()])\n",
      "File \u001b[0;32m~/Documents/Yenching/Financial Econometrics/project/portfolio.py:59\u001b[0m, in \u001b[0;36mPortfolio.activate\u001b[0;34m(self)\u001b[0m\n\u001b[1;32m     57\u001b[0m \u001b[39mfor\u001b[39;00m date \u001b[39min\u001b[39;00m \u001b[39mself\u001b[39m\u001b[39m.\u001b[39mdates:\n\u001b[1;32m     58\u001b[0m     month_positions \u001b[39m=\u001b[39m \u001b[39mself\u001b[39m\u001b[39m.\u001b[39mpositions[date]\n\u001b[0;32m---> 59\u001b[0m     month_returns \u001b[39m=\u001b[39m {position: \u001b[39mself\u001b[39;49m\u001b[39m.\u001b[39;49msource_data\u001b[39m.\u001b[39;49mgroupby([\u001b[39m'\u001b[39;49m\u001b[39morder_book_id\u001b[39;49m\u001b[39m'\u001b[39;49m, \u001b[39m'\u001b[39;49m\u001b[39mdate\u001b[39;49m\u001b[39m'\u001b[39;49m])[\u001b[39m'\u001b[39;49m\u001b[39mexret\u001b[39;49m\u001b[39m'\u001b[39;49m]\u001b[39m.\u001b[39;49mget_group((position, date)) \u001b[39mfor\u001b[39;49;00m position \u001b[39min\u001b[39;49;00m month_positions\u001b[39m.\u001b[39;49mkeys()}\n\u001b[1;32m     60\u001b[0m     total_return \u001b[39m=\u001b[39m np\u001b[39m.\u001b[39marray([month_positions[key] \u001b[39m*\u001b[39m month_returns[key] \u001b[39mfor\u001b[39;00m key \u001b[39min\u001b[39;00m month_positions\u001b[39m.\u001b[39mkeys()])\u001b[39m.\u001b[39msum()\n\u001b[1;32m     61\u001b[0m     row_data \u001b[39m=\u001b[39m [date, \u001b[39mself\u001b[39m\u001b[39m.\u001b[39mpositions[date], \u001b[39mlen\u001b[39m(\u001b[39mself\u001b[39m\u001b[39m.\u001b[39mpositions[date]), total_return]\n",
      "File \u001b[0;32m~/Documents/Yenching/Financial Econometrics/project/portfolio.py:59\u001b[0m, in \u001b[0;36m<dictcomp>\u001b[0;34m(.0)\u001b[0m\n\u001b[1;32m     57\u001b[0m \u001b[39mfor\u001b[39;00m date \u001b[39min\u001b[39;00m \u001b[39mself\u001b[39m\u001b[39m.\u001b[39mdates:\n\u001b[1;32m     58\u001b[0m     month_positions \u001b[39m=\u001b[39m \u001b[39mself\u001b[39m\u001b[39m.\u001b[39mpositions[date]\n\u001b[0;32m---> 59\u001b[0m     month_returns \u001b[39m=\u001b[39m {position: \u001b[39mself\u001b[39m\u001b[39m.\u001b[39msource_data\u001b[39m.\u001b[39mgroupby([\u001b[39m'\u001b[39m\u001b[39morder_book_id\u001b[39m\u001b[39m'\u001b[39m, \u001b[39m'\u001b[39m\u001b[39mdate\u001b[39m\u001b[39m'\u001b[39m])[\u001b[39m'\u001b[39m\u001b[39mexret\u001b[39m\u001b[39m'\u001b[39m]\u001b[39m.\u001b[39mget_group((position, date)) \u001b[39mfor\u001b[39;00m position \u001b[39min\u001b[39;00m month_positions\u001b[39m.\u001b[39mkeys()}\n\u001b[1;32m     60\u001b[0m     total_return \u001b[39m=\u001b[39m np\u001b[39m.\u001b[39marray([month_positions[key] \u001b[39m*\u001b[39m month_returns[key] \u001b[39mfor\u001b[39;00m key \u001b[39min\u001b[39;00m month_positions\u001b[39m.\u001b[39mkeys()])\u001b[39m.\u001b[39msum()\n\u001b[1;32m     61\u001b[0m     row_data \u001b[39m=\u001b[39m [date, \u001b[39mself\u001b[39m\u001b[39m.\u001b[39mpositions[date], \u001b[39mlen\u001b[39m(\u001b[39mself\u001b[39m\u001b[39m.\u001b[39mpositions[date]), total_return]\n",
      "\u001b[0;31mKeyboardInterrupt\u001b[0m: "
     ]
    }
   ],
   "source": [
    "portfolio_1 = Portfolio()\n",
    "portfolio_1.run(StrategyNFixedBaskets, X)\n"
   ]
  },
  {
   "cell_type": "code",
   "execution_count": null,
   "id": "7b6148ca",
   "metadata": {},
   "outputs": [
    {
     "data": {
      "text/plain": [
       "{'Portfolio Rate of Return': 0.01038099113075054,\n",
       " 'Portfolio std': 0.0678347688504211,\n",
       " 'Portfolio Sharpe': 0.15303348572825715,\n",
       " 'Mean Portfolio Size': 134.67142857142858}"
      ]
     },
     "execution_count": 21,
     "metadata": {},
     "output_type": "execute_result"
    }
   ],
   "source": [
    "portfolio_1.stats"
   ]
  },
  {
   "cell_type": "code",
   "execution_count": 9,
   "id": "f31c6906",
   "metadata": {},
   "outputs": [
    {
     "name": "stdout",
     "output_type": "stream",
     "text": [
      "Stock 000584.XSHE does not have sufficient training data.\n",
      "Stock 000002.XSHE does not have sufficient training data.\n",
      "Stock 000058.XSHE does not have sufficient training data.\n",
      "Stock 000510.XSHE does not have sufficient training data.\n",
      "Portfolio well defined.\n",
      "1.6657330417973715\n",
      "0.13773787071669755\n",
      "Activated.\n"
     ]
    }
   ],
   "source": [
    "portfolio_2 = Portfolio()\n",
    "portfolio_2.run(StrategyLassoFactors, X, args=[0.015])"
   ]
  },
  {
   "cell_type": "code",
   "execution_count": 10,
   "id": "7e145474",
   "metadata": {},
   "outputs": [
    {
     "data": {
      "text/plain": [
       "{'Portfolio Rate of Return': 0.13773787071669755,\n",
       " 'Portfolio std': 0.07334311397759906,\n",
       " 'Portfolio Sharpe': 1.8779932190875666,\n",
       " 'Mean Portfolio Size': 45.4}"
      ]
     },
     "execution_count": 10,
     "metadata": {},
     "output_type": "execute_result"
    }
   ],
   "source": [
    "portfolio_2.stats"
   ]
  },
  {
   "cell_type": "code",
   "execution_count": 11,
   "id": "19d6c2ac",
   "metadata": {},
   "outputs": [
    {
     "name": "stderr",
     "output_type": "stream",
     "text": [
      "  0%|          | 0/5 [00:00<?, ?it/s]"
     ]
    },
    {
     "name": "stdout",
     "output_type": "stream",
     "text": [
      "0.01\n",
      "Stock 000584.XSHE does not have sufficient training data.\n",
      "Stock 000002.XSHE does not have sufficient training data.\n",
      "Stock 000058.XSHE does not have sufficient training data.\n",
      "Stock 000510.XSHE does not have sufficient training data.\n",
      "Portfolio well defined.\n"
     ]
    },
    {
     "name": "stderr",
     "output_type": "stream",
     "text": [
      " 20%|██        | 1/5 [06:47<27:09, 407.35s/it]"
     ]
    },
    {
     "name": "stdout",
     "output_type": "stream",
     "text": [
      "1.600413411902342\n",
      "0.12422346453151906\n",
      "Activated.\n",
      "0.01778279410038923\n",
      "Stock 000584.XSHE does not have sufficient training data.\n",
      "Stock 000002.XSHE does not have sufficient training data.\n",
      "Stock 000058.XSHE does not have sufficient training data.\n",
      "Stock 000510.XSHE does not have sufficient training data.\n",
      "Portfolio well defined.\n"
     ]
    },
    {
     "name": "stderr",
     "output_type": "stream",
     "text": [
      " 40%|████      | 2/5 [13:36<20:25, 408.57s/it]"
     ]
    },
    {
     "name": "stdout",
     "output_type": "stream",
     "text": [
      "1.6527999546390642\n",
      "0.13506205958049605\n",
      "Activated.\n",
      "0.03162277660168379\n",
      "Stock 000584.XSHE does not have sufficient training data.\n",
      "Stock 000002.XSHE does not have sufficient training data.\n",
      "Stock 000058.XSHE does not have sufficient training data.\n",
      "Stock 000510.XSHE does not have sufficient training data.\n",
      "Portfolio well defined.\n"
     ]
    },
    {
     "name": "stderr",
     "output_type": "stream",
     "text": [
      " 60%|██████    | 3/5 [20:27<13:39, 409.63s/it]"
     ]
    },
    {
     "name": "stdout",
     "output_type": "stream",
     "text": [
      "1.5902652492921625\n",
      "0.12212384468113707\n",
      "Activated.\n",
      "0.05623413251903491\n",
      "Stock 000584.XSHE does not have sufficient training data.\n",
      "Stock 000002.XSHE does not have sufficient training data.\n",
      "Stock 000058.XSHE does not have sufficient training data.\n",
      "Stock 000510.XSHE does not have sufficient training data.\n",
      "Portfolio well defined.\n"
     ]
    },
    {
     "name": "stderr",
     "output_type": "stream",
     "text": [
      " 80%|████████  | 4/5 [27:17<06:49, 409.88s/it]"
     ]
    },
    {
     "name": "stdout",
     "output_type": "stream",
     "text": [
      "1.3715769268601519\n",
      "0.07687798486761763\n",
      "Activated.\n",
      "0.1\n",
      "Stock 000584.XSHE does not have sufficient training data.\n",
      "Stock 000002.XSHE does not have sufficient training data.\n",
      "Stock 000058.XSHE does not have sufficient training data.\n",
      "Stock 000510.XSHE does not have sufficient training data.\n",
      "Portfolio well defined.\n"
     ]
    },
    {
     "name": "stderr",
     "output_type": "stream",
     "text": [
      "100%|██████████| 5/5 [34:22<00:00, 412.54s/it]"
     ]
    },
    {
     "name": "stdout",
     "output_type": "stream",
     "text": [
      "1.0341663612398233\n",
      "0.007068902325480684\n",
      "Activated.\n"
     ]
    },
    {
     "name": "stderr",
     "output_type": "stream",
     "text": [
      "\n"
     ]
    }
   ],
   "source": [
    "import numpy as np\n",
    "from tqdm import tqdm\n",
    "alphas = np.logspace(-2, -1.7, 10)\n",
    "sharpes = []\n",
    "sizes = []\n",
    "\n",
    "for alpha in tqdm(alphas):\n",
    "    print(alpha)\n",
    "    portfolio_3 = Portfolio()\n",
    "    portfolio_3.run(StrategyLassoFactors, X, args=[alpha])\n",
    "    sharpes.append(portfolio_3.stats['Portfolio Sharpe'])\n",
    "    sizes.append(portfolio_3.stats[\"Mean Portfolio Size\"])"
   ]
  },
  {
   "cell_type": "code",
   "execution_count": 12,
   "id": "c763180a",
   "metadata": {},
   "outputs": [
    {
     "data": {
      "image/png": "[encoded data removed]",
      "text/plain": [
       "<Figure size 640x480 with 1 Axes>"
      ]
     },
     "metadata": {},
     "output_type": "display_data"
    }
   ],
   "source": [
    "import matplotlib.pyplot as plt\n",
    "\n",
    "\n",
    "\n",
    "fig, ax = plt.subplots()\n",
    "ax.scatter(x=alphas, y=sharpes)\n",
    "#ax.scatter(x=alphas, y=sizes)\n",
    "ax.set_xscale('log')"
   ]
  },
  {
   "cell_type": "code",
   "execution_count": 13,
   "id": "c2e203c9",
   "metadata": {},
   "outputs": [
    {
     "data": {
      "text/plain": [
       "{'Portfolio Rate of Return': 0.007068902325480684,\n",
       " 'Portfolio std': 0.07236255722691719,\n",
       " 'Portfolio Sharpe': 0.0976872929367844,\n",
       " 'Mean Portfolio Size': 46.857142857142854}"
      ]
     },
     "execution_count": 13,
     "metadata": {},
     "output_type": "execute_result"
    }
   ],
   "source": [
    "portfolio_3.stats"
   ]
  },
  {
   "cell_type": "code",
   "execution_count": null,
   "id": "47c31caf",
   "metadata": {},
   "outputs": [],
   "source": [
    "num_stocks_used = len(set([item for values in portfolio_3.portfolio.values() for item in values.values()]))"
   ]
  },
  {
   "cell_type": "code",
   "execution_count": 15,
   "id": "3ae59d8a",
   "metadata": {},
   "outputs": [
    {
     "name": "stderr",
     "output_type": "stream",
     "text": [
      "  0%|          | 0/3 [00:00<?, ?it/s]"
     ]
    },
    {
     "name": "stdout",
     "output_type": "stream",
     "text": [
      "0\n",
      "Stock 000510.XSHE does not have sufficient training data.\n",
      "Stock 000058.XSHE does not have sufficient training data.\n",
      "Stock 000584.XSHE does not have sufficient training data.\n",
      "Stock 000002.XSHE does not have sufficient training data.\n",
      "Portfolio well defined.\n"
     ]
    },
    {
     "name": "stderr",
     "output_type": "stream",
     "text": [
      " 33%|███▎      | 1/3 [03:24<06:49, 204.90s/it]"
     ]
    },
    {
     "name": "stdout",
     "output_type": "stream",
     "text": [
      "1.228294212582291\n",
      "0.04723328536185333\n",
      "Activated.\n",
      "0.5\n",
      "Stock 000510.XSHE does not have sufficient training data.\n",
      "Stock 000058.XSHE does not have sufficient training data.\n",
      "Stock 000584.XSHE does not have sufficient training data.\n",
      "Stock 000002.XSHE does not have sufficient training data.\n",
      "Portfolio well defined.\n"
     ]
    },
    {
     "name": "stderr",
     "output_type": "stream",
     "text": [
      " 67%|██████▋   | 2/3 [06:27<03:11, 191.66s/it]"
     ]
    },
    {
     "name": "stdout",
     "output_type": "stream",
     "text": [
      "0.724192169370936\n",
      "-0.05706368909566842\n",
      "Activated.\n",
      "1\n",
      "Stock 000510.XSHE does not have sufficient training data.\n",
      "Stock 000058.XSHE does not have sufficient training data.\n",
      "Stock 000584.XSHE does not have sufficient training data.\n",
      "Stock 000002.XSHE does not have sufficient training data.\n",
      "Portfolio well defined.\n"
     ]
    },
    {
     "name": "stderr",
     "output_type": "stream",
     "text": [
      "100%|██████████| 3/3 [09:29<00:00, 189.89s/it]"
     ]
    },
    {
     "name": "stdout",
     "output_type": "stream",
     "text": [
      "0.724192169370936\n",
      "-0.05706368909566842\n",
      "Activated.\n"
     ]
    },
    {
     "name": "stderr",
     "output_type": "stream",
     "text": [
      "\n"
     ]
    }
   ],
   "source": [
    "alphas_2 = [0, 0.5, 1]\n",
    "sharpes_2 = []\n",
    "sizes_2 = []\n",
    "\n",
    "for alpha in tqdm(alphas_2):\n",
    "    print(alpha)\n",
    "    portfolio_4 = Portfolio()\n",
    "    portfolio_4.run(StrategyLassoFactors, X, args=[alpha])\n",
    "    sharpes_2.append(portfolio_4.stats['Portfolio Sharpe'])\n",
    "    sizes_2.append(portfolio_4.stats[\"Mean Portfolio Size\"])"
   ]
  },
  {
   "cell_type": "code",
   "execution_count": 17,
   "id": "19031d88",
   "metadata": {},
   "outputs": [
    {
     "data": {
      "text/plain": [
       "<matplotlib.collections.PathCollection at 0x14f10aad0>"
      ]
     },
     "execution_count": 17,
     "metadata": {},
     "output_type": "execute_result"
    },
    {
     "data": {
      "image/png": "[encoded data removed]",
      "text/plain": [
       "<Figure size 640x480 with 1 Axes>"
      ]
     },
     "metadata": {},
     "output_type": "display_data"
    }
   ],
   "source": [
    "fig, ax = plt.subplots()\n",
    "ax.scatter(x=alphas_2, y=sharpes_2)\n",
    "#ax.scatter(x=alphas_2, y=sizes_2)"
   ]
  },
  {
   "cell_type": "code",
   "execution_count": 5,
   "id": "ac9002c0",
   "metadata": {},
   "outputs": [
    {
     "data": {
      "text/html": [
       "<div>\n",
       "<style scoped>\n",
       "    .dataframe tbody tr th:only-of-type {\n",
       "        vertical-align: middle;\n",
       "    }\n",
       "\n",
       "    .dataframe tbody tr th {\n",
       "        vertical-align: top;\n",
       "    }\n",
       "\n",
       "    .dataframe thead th {\n",
       "        text-align: right;\n",
       "    }\n",
       "</style>\n",
       "<table border=\"1\" class=\"dataframe\">\n",
       "  <thead>\n",
       "    <tr style=\"text-align: right;\">\n",
       "      <th></th>\n",
       "      <th>date</th>\n",
       "      <th>positions</th>\n",
       "      <th>n_positions</th>\n",
       "      <th>return</th>\n",
       "      <th>std</th>\n",
       "      <th>Sharpe</th>\n",
       "    </tr>\n",
       "  </thead>\n",
       "  <tbody>\n",
       "    <tr>\n",
       "      <th>12</th>\n",
       "      <td>2011-09-30</td>\n",
       "      <td>{'000001.XSHE': 0.5, '000002.XSHE': 0.5}</td>\n",
       "      <td>2</td>\n",
       "      <td>1.0</td>\n",
       "      <td>0.000000</td>\n",
       "      <td>inf</td>\n",
       "    </tr>\n",
       "    <tr>\n",
       "      <th>13</th>\n",
       "      <td>2011-10-31</td>\n",
       "      <td>{'000001.XSHE': 0.5, '000002.XSHE': 0.5}</td>\n",
       "      <td>2</td>\n",
       "      <td>1.0</td>\n",
       "      <td>0.000000</td>\n",
       "      <td>inf</td>\n",
       "    </tr>\n",
       "    <tr>\n",
       "      <th>14</th>\n",
       "      <td>2011-11-30</td>\n",
       "      <td>{'000001.XSHE': 0.5, '000002.XSHE': 0.5}</td>\n",
       "      <td>2</td>\n",
       "      <td>1.0</td>\n",
       "      <td>0.000000</td>\n",
       "      <td>inf</td>\n",
       "    </tr>\n",
       "    <tr>\n",
       "      <th>15</th>\n",
       "      <td>2011-12-30</td>\n",
       "      <td>{'000001.XSHE': 0.5, '000002.XSHE': 0.5}</td>\n",
       "      <td>2</td>\n",
       "      <td>1.0</td>\n",
       "      <td>0.000000</td>\n",
       "      <td>inf</td>\n",
       "    </tr>\n",
       "    <tr>\n",
       "      <th>16</th>\n",
       "      <td>2012-01-31</td>\n",
       "      <td>{'000001.XSHE': 0.5, '000002.XSHE': 0.5}</td>\n",
       "      <td>2</td>\n",
       "      <td>1.0</td>\n",
       "      <td>0.000000</td>\n",
       "      <td>inf</td>\n",
       "    </tr>\n",
       "    <tr>\n",
       "      <th>17</th>\n",
       "      <td>2012-02-29</td>\n",
       "      <td>{'000001.XSHE': 0.5, '000002.XSHE': 0.5}</td>\n",
       "      <td>2</td>\n",
       "      <td>1.0</td>\n",
       "      <td>0.000000</td>\n",
       "      <td>inf</td>\n",
       "    </tr>\n",
       "    <tr>\n",
       "      <th>18</th>\n",
       "      <td>2012-03-30</td>\n",
       "      <td>{'000001.XSHE': 0.5, '000002.XSHE': 0.5}</td>\n",
       "      <td>2</td>\n",
       "      <td>1.0</td>\n",
       "      <td>0.000000</td>\n",
       "      <td>inf</td>\n",
       "    </tr>\n",
       "    <tr>\n",
       "      <th>19</th>\n",
       "      <td>2012-04-27</td>\n",
       "      <td>{'000001.XSHE': 0.5, '000002.XSHE': 0.5}</td>\n",
       "      <td>2</td>\n",
       "      <td>0.0</td>\n",
       "      <td>0.288675</td>\n",
       "      <td>0.000000</td>\n",
       "    </tr>\n",
       "    <tr>\n",
       "      <th>20</th>\n",
       "      <td>2012-05-31</td>\n",
       "      <td>{'000001.XSHE': 0.5, '000002.XSHE': 0.5}</td>\n",
       "      <td>2</td>\n",
       "      <td>1.0</td>\n",
       "      <td>0.288675</td>\n",
       "      <td>3.464102</td>\n",
       "    </tr>\n",
       "    <tr>\n",
       "      <th>21</th>\n",
       "      <td>2012-06-29</td>\n",
       "      <td>{'000001.XSHE': 0.5, '000002.XSHE': 0.5}</td>\n",
       "      <td>2</td>\n",
       "      <td>1.0</td>\n",
       "      <td>0.288675</td>\n",
       "      <td>3.464102</td>\n",
       "    </tr>\n",
       "    <tr>\n",
       "      <th>22</th>\n",
       "      <td>2012-07-31</td>\n",
       "      <td>{'000001.XSHE': 0.5, '000002.XSHE': 0.5}</td>\n",
       "      <td>2</td>\n",
       "      <td>1.0</td>\n",
       "      <td>0.288675</td>\n",
       "      <td>3.464102</td>\n",
       "    </tr>\n",
       "    <tr>\n",
       "      <th>23</th>\n",
       "      <td>2012-08-31</td>\n",
       "      <td>{'000001.XSHE': 0.5, '000002.XSHE': 0.5}</td>\n",
       "      <td>2</td>\n",
       "      <td>2.0</td>\n",
       "      <td>0.426401</td>\n",
       "      <td>4.690416</td>\n",
       "    </tr>\n",
       "    <tr>\n",
       "      <th>24</th>\n",
       "      <td>2012-09-28</td>\n",
       "      <td>{'000001.XSHE': 0.5, '000002.XSHE': 0.5}</td>\n",
       "      <td>2</td>\n",
       "      <td>1.0</td>\n",
       "      <td>0.426401</td>\n",
       "      <td>2.345208</td>\n",
       "    </tr>\n",
       "    <tr>\n",
       "      <th>25</th>\n",
       "      <td>2012-10-31</td>\n",
       "      <td>{'000001.XSHE': 0.5, '000002.XSHE': 0.5}</td>\n",
       "      <td>2</td>\n",
       "      <td>1.0</td>\n",
       "      <td>0.426401</td>\n",
       "      <td>2.345208</td>\n",
       "    </tr>\n",
       "    <tr>\n",
       "      <th>26</th>\n",
       "      <td>2012-11-30</td>\n",
       "      <td>{'000001.XSHE': 0.5, '000002.XSHE': 0.5}</td>\n",
       "      <td>2</td>\n",
       "      <td>1.0</td>\n",
       "      <td>0.426401</td>\n",
       "      <td>2.345208</td>\n",
       "    </tr>\n",
       "  </tbody>\n",
       "</table>\n",
       "</div>"
      ],
      "text/plain": [
       "         date                                 positions n_positions  return  \\\n",
       "12 2011-09-30  {'000001.XSHE': 0.5, '000002.XSHE': 0.5}           2     1.0   \n",
       "13 2011-10-31  {'000001.XSHE': 0.5, '000002.XSHE': 0.5}           2     1.0   \n",
       "14 2011-11-30  {'000001.XSHE': 0.5, '000002.XSHE': 0.5}           2     1.0   \n",
       "15 2011-12-30  {'000001.XSHE': 0.5, '000002.XSHE': 0.5}           2     1.0   \n",
       "16 2012-01-31  {'000001.XSHE': 0.5, '000002.XSHE': 0.5}           2     1.0   \n",
       "17 2012-02-29  {'000001.XSHE': 0.5, '000002.XSHE': 0.5}           2     1.0   \n",
       "18 2012-03-30  {'000001.XSHE': 0.5, '000002.XSHE': 0.5}           2     1.0   \n",
       "19 2012-04-27  {'000001.XSHE': 0.5, '000002.XSHE': 0.5}           2     0.0   \n",
       "20 2012-05-31  {'000001.XSHE': 0.5, '000002.XSHE': 0.5}           2     1.0   \n",
       "21 2012-06-29  {'000001.XSHE': 0.5, '000002.XSHE': 0.5}           2     1.0   \n",
       "22 2012-07-31  {'000001.XSHE': 0.5, '000002.XSHE': 0.5}           2     1.0   \n",
       "23 2012-08-31  {'000001.XSHE': 0.5, '000002.XSHE': 0.5}           2     2.0   \n",
       "24 2012-09-28  {'000001.XSHE': 0.5, '000002.XSHE': 0.5}           2     1.0   \n",
       "25 2012-10-31  {'000001.XSHE': 0.5, '000002.XSHE': 0.5}           2     1.0   \n",
       "26 2012-11-30  {'000001.XSHE': 0.5, '000002.XSHE': 0.5}           2     1.0   \n",
       "\n",
       "         std    Sharpe  \n",
       "12  0.000000       inf  \n",
       "13  0.000000       inf  \n",
       "14  0.000000       inf  \n",
       "15  0.000000       inf  \n",
       "16  0.000000       inf  \n",
       "17  0.000000       inf  \n",
       "18  0.000000       inf  \n",
       "19  0.288675  0.000000  \n",
       "20  0.288675  3.464102  \n",
       "21  0.288675  3.464102  \n",
       "22  0.288675  3.464102  \n",
       "23  0.426401  4.690416  \n",
       "24  0.426401  2.345208  \n",
       "25  0.426401  2.345208  \n",
       "26  0.426401  2.345208  "
      ]
     },
     "execution_count": 5,
     "metadata": {},
     "output_type": "execute_result"
    }
   ],
   "source": [
    "portfolio_1.data"
   ]
  },
  {
   "cell_type": "code",
   "execution_count": 6,
   "id": "13846109",
   "metadata": {},
   "outputs": [
    {
     "ename": "ValueError",
     "evalue": "Mime type rendering requires nbformat>=4.2.0 but it is not installed",
     "output_type": "error",
     "traceback": [
      "\u001b[0;31m---------------------------------------------------------------------------\u001b[0m",
      "\u001b[0;31mValueError\u001b[0m                                Traceback (most recent call last)",
      "File \u001b[0;32m~/anaconda3/envs/stocks/lib/python3.11/site-packages/IPython/core/formatters.py:922\u001b[0m, in \u001b[0;36mIPythonDisplayFormatter.__call__\u001b[0;34m(self, obj)\u001b[0m\n\u001b[1;32m    920\u001b[0m method \u001b[39m=\u001b[39m get_real_method(obj, \u001b[39mself\u001b[39m\u001b[39m.\u001b[39mprint_method)\n\u001b[1;32m    921\u001b[0m \u001b[39mif\u001b[39;00m method \u001b[39mis\u001b[39;00m \u001b[39mnot\u001b[39;00m \u001b[39mNone\u001b[39;00m:\n\u001b[0;32m--> 922\u001b[0m     method()\n\u001b[1;32m    923\u001b[0m     \u001b[39mreturn\u001b[39;00m \u001b[39mTrue\u001b[39;00m\n",
      "File \u001b[0;32m~/anaconda3/envs/stocks/lib/python3.11/site-packages/plotly/basedatatypes.py:842\u001b[0m, in \u001b[0;36mBaseFigure._ipython_display_\u001b[0;34m(self)\u001b[0m\n\u001b[1;32m    839\u001b[0m \u001b[39mimport\u001b[39;00m \u001b[39mplotly\u001b[39;00m\u001b[39m.\u001b[39;00m\u001b[39mio\u001b[39;00m \u001b[39mas\u001b[39;00m \u001b[39mpio\u001b[39;00m\n\u001b[1;32m    841\u001b[0m \u001b[39mif\u001b[39;00m pio\u001b[39m.\u001b[39mrenderers\u001b[39m.\u001b[39mrender_on_display \u001b[39mand\u001b[39;00m pio\u001b[39m.\u001b[39mrenderers\u001b[39m.\u001b[39mdefault:\n\u001b[0;32m--> 842\u001b[0m     pio\u001b[39m.\u001b[39;49mshow(\u001b[39mself\u001b[39;49m)\n\u001b[1;32m    843\u001b[0m \u001b[39melse\u001b[39;00m:\n\u001b[1;32m    844\u001b[0m     \u001b[39mprint\u001b[39m(\u001b[39mrepr\u001b[39m(\u001b[39mself\u001b[39m))\n",
      "File \u001b[0;32m~/anaconda3/envs/stocks/lib/python3.11/site-packages/plotly/io/_renderers.py:396\u001b[0m, in \u001b[0;36mshow\u001b[0;34m(fig, renderer, validate, **kwargs)\u001b[0m\n\u001b[1;32m    391\u001b[0m         \u001b[39mraise\u001b[39;00m \u001b[39mValueError\u001b[39;00m(\n\u001b[1;32m    392\u001b[0m             \u001b[39m\"\u001b[39m\u001b[39mMime type rendering requires ipython but it is not installed\u001b[39m\u001b[39m\"\u001b[39m\n\u001b[1;32m    393\u001b[0m         )\n\u001b[1;32m    395\u001b[0m     \u001b[39mif\u001b[39;00m \u001b[39mnot\u001b[39;00m nbformat \u001b[39mor\u001b[39;00m LooseVersion(nbformat\u001b[39m.\u001b[39m__version__) \u001b[39m<\u001b[39m LooseVersion(\u001b[39m\"\u001b[39m\u001b[39m4.2.0\u001b[39m\u001b[39m\"\u001b[39m):\n\u001b[0;32m--> 396\u001b[0m         \u001b[39mraise\u001b[39;00m \u001b[39mValueError\u001b[39;00m(\n\u001b[1;32m    397\u001b[0m             \u001b[39m\"\u001b[39m\u001b[39mMime type rendering requires nbformat>=4.2.0 but it is not installed\u001b[39m\u001b[39m\"\u001b[39m\n\u001b[1;32m    398\u001b[0m         )\n\u001b[1;32m    400\u001b[0m     ipython_display\u001b[39m.\u001b[39mdisplay(bundle, raw\u001b[39m=\u001b[39m\u001b[39mTrue\u001b[39;00m)\n\u001b[1;32m    402\u001b[0m \u001b[39m# external renderers\u001b[39;00m\n",
      "\u001b[0;31mValueError\u001b[0m: Mime type rendering requires nbformat>=4.2.0 but it is not installed"
     ]
    },
    {
     "data": {
      "application/vnd.plotly.v1+json": {
       "config": {
        "plotlyServerURL": "https://plot.ly"
       },
       "data": [
        {
         "hovertemplate": "variable=Sharpe<br>date=%{x}<br>value=%{y}<extra></extra>",
         "legendgroup": "Sharpe",
         "line": {
          "color": "#636efa",
          "dash": "solid"
         },
         "marker": {
          "symbol": "circle"
         },
         "mode": "lines",
         "name": "Sharpe",
         "orientation": "v",
         "showlegend": true,
         "type": "scatter",
         "x": [
          "2011-09-30T00:00:00",
          "2011-10-31T00:00:00",
          "2011-11-30T00:00:00",
          "2011-12-30T00:00:00",
          "2012-01-31T00:00:00",
          "2012-02-29T00:00:00",
          "2012-03-30T00:00:00",
          "2012-04-27T00:00:00",
          "2012-05-31T00:00:00",
          "2012-06-29T00:00:00",
          "2012-07-31T00:00:00",
          "2012-08-31T00:00:00",
          "2012-09-28T00:00:00",
          "2012-10-31T00:00:00",
          "2012-11-30T00:00:00"
         ],
         "xaxis": "x",
         "y": [
          null,
          null,
          null,
          null,
          null,
          null,
          null,
          0,
          3.464101615137755,
          3.464101615137755,
          3.464101615137755,
          4.69041575982343,
          2.345207879911715,
          2.345207879911715,
          2.345207879911715
         ],
         "yaxis": "y"
        }
       ],
       "layout": {
        "legend": {
         "title": {
          "text": "variable"
         },
         "tracegroupgap": 0
        },
        "margin": {
         "t": 60
        },
        "template": {
         "data": {
          "bar": [
           {
            "error_x": {
             "color": "#2a3f5f"
            },
            "error_y": {
             "color": "#2a3f5f"
            },
            "marker": {
             "line": {
              "color": "#E5ECF6",
              "width": 0.5
             },
             "pattern": {
              "fillmode": "overlay",
              "size": 10,
              "solidity": 0.2
             }
            },
            "type": "bar"
           }
          ],
          "barpolar": [
           {
            "marker": {
             "line": {
              "color": "#E5ECF6",
              "width": 0.5
             },
             "pattern": {
              "fillmode": "overlay",
              "size": 10,
              "solidity": 0.2
             }
            },
            "type": "barpolar"
           }
          ],
          "carpet": [
           {
            "aaxis": {
             "endlinecolor": "#2a3f5f",
             "gridcolor": "white",
             "linecolor": "white",
             "minorgridcolor": "white",
             "startlinecolor": "#2a3f5f"
            },
            "baxis": {
             "endlinecolor": "#2a3f5f",
             "gridcolor": "white",
             "linecolor": "white",
             "minorgridcolor": "white",
             "startlinecolor": "#2a3f5f"
            },
            "type": "carpet"
           }
          ],
          "choropleth": [
           {
            "colorbar": {
             "outlinewidth": 0,
             "ticks": ""
            },
            "type": "choropleth"
           }
          ],
          "contour": [
           {
            "colorbar": {
             "outlinewidth": 0,
             "ticks": ""
            },
            "colorscale": [
             [
              0,
              "#0d0887"
             ],
             [
              0.1111111111111111,
              "#46039f"
             ],
             [
              0.2222222222222222,
              "#7201a8"
             ],
             [
              0.3333333333333333,
              "#9c179e"
             ],
             [
              0.4444444444444444,
              "#bd3786"
             ],
             [
              0.5555555555555556,
              "#d8576b"
             ],
             [
              0.6666666666666666,
              "#ed7953"
             ],
             [
              0.7777777777777778,
              "#fb9f3a"
             ],
             [
              0.8888888888888888,
              "#fdca26"
             ],
             [
              1,
              "#f0f921"
             ]
            ],
            "type": "contour"
           }
          ],
          "contourcarpet": [
           {
            "colorbar": {
             "outlinewidth": 0,
             "ticks": ""
            },
            "type": "contourcarpet"
           }
          ],
          "heatmap": [
           {
            "colorbar": {
             "outlinewidth": 0,
             "ticks": ""
            },
            "colorscale": [
             [
              0,
              "#0d0887"
             ],
             [
              0.1111111111111111,
              "#46039f"
             ],
             [
              0.2222222222222222,
              "#7201a8"
             ],
             [
              0.3333333333333333,
              "#9c179e"
             ],
             [
              0.4444444444444444,
              "#bd3786"
             ],
             [
              0.5555555555555556,
              "#d8576b"
             ],
             [
              0.6666666666666666,
              "#ed7953"
             ],
             [
              0.7777777777777778,
              "#fb9f3a"
             ],
             [
              0.8888888888888888,
              "#fdca26"
             ],
             [
              1,
              "#f0f921"
             ]
            ],
            "type": "heatmap"
           }
          ],
          "heatmapgl": [
           {
            "colorbar": {
             "outlinewidth": 0,
             "ticks": ""
            },
            "colorscale": [
             [
              0,
              "#0d0887"
             ],
             [
              0.1111111111111111,
              "#46039f"
             ],
             [
              0.2222222222222222,
              "#7201a8"
             ],
             [
              0.3333333333333333,
              "#9c179e"
             ],
             [
              0.4444444444444444,
              "#bd3786"
             ],
             [
              0.5555555555555556,
              "#d8576b"
             ],
             [
              0.6666666666666666,
              "#ed7953"
             ],
             [
              0.7777777777777778,
              "#fb9f3a"
             ],
             [
              0.8888888888888888,
              "#fdca26"
             ],
             [
              1,
              "#f0f921"
             ]
            ],
            "type": "heatmapgl"
           }
          ],
          "histogram": [
           {
            "marker": {
             "pattern": {
              "fillmode": "overlay",
              "size": 10,
              "solidity": 0.2
             }
            },
            "type": "histogram"
           }
          ],
          "histogram2d": [
           {
            "colorbar": {
             "outlinewidth": 0,
             "ticks": ""
            },
            "colorscale": [
             [
              0,
              "#0d0887"
             ],
             [
              0.1111111111111111,
              "#46039f"
             ],
             [
              0.2222222222222222,
              "#7201a8"
             ],
             [
              0.3333333333333333,
              "#9c179e"
             ],
             [
              0.4444444444444444,
              "#bd3786"
             ],
             [
              0.5555555555555556,
              "#d8576b"
             ],
             [
              0.6666666666666666,
              "#ed7953"
             ],
             [
              0.7777777777777778,
              "#fb9f3a"
             ],
             [
              0.8888888888888888,
              "#fdca26"
             ],
             [
              1,
              "#f0f921"
             ]
            ],
            "type": "histogram2d"
           }
          ],
          "histogram2dcontour": [
           {
            "colorbar": {
             "outlinewidth": 0,
             "ticks": ""
            },
            "colorscale": [
             [
              0,
              "#0d0887"
             ],
             [
              0.1111111111111111,
              "#46039f"
             ],
             [
              0.2222222222222222,
              "#7201a8"
             ],
             [
              0.3333333333333333,
              "#9c179e"
             ],
             [
              0.4444444444444444,
              "#bd3786"
             ],
             [
              0.5555555555555556,
              "#d8576b"
             ],
             [
              0.6666666666666666,
              "#ed7953"
             ],
             [
              0.7777777777777778,
              "#fb9f3a"
             ],
             [
              0.8888888888888888,
              "#fdca26"
             ],
             [
              1,
              "#f0f921"
             ]
            ],
            "type": "histogram2dcontour"
           }
          ],
          "mesh3d": [
           {
            "colorbar": {
             "outlinewidth": 0,
             "ticks": ""
            },
            "type": "mesh3d"
           }
          ],
          "parcoords": [
           {
            "line": {
             "colorbar": {
              "outlinewidth": 0,
              "ticks": ""
             }
            },
            "type": "parcoords"
           }
          ],
          "pie": [
           {
            "automargin": true,
            "type": "pie"
           }
          ],
          "scatter": [
           {
            "fillpattern": {
             "fillmode": "overlay",
             "size": 10,
             "solidity": 0.2
            },
            "type": "scatter"
           }
          ],
          "scatter3d": [
           {
            "line": {
             "colorbar": {
              "outlinewidth": 0,
              "ticks": ""
             }
            },
            "marker": {
             "colorbar": {
              "outlinewidth": 0,
              "ticks": ""
             }
            },
            "type": "scatter3d"
           }
          ],
          "scattercarpet": [
           {
            "marker": {
             "colorbar": {
              "outlinewidth": 0,
              "ticks": ""
             }
            },
            "type": "scattercarpet"
           }
          ],
          "scattergeo": [
           {
            "marker": {
             "colorbar": {
              "outlinewidth": 0,
              "ticks": ""
             }
            },
            "type": "scattergeo"
           }
          ],
          "scattergl": [
           {
            "marker": {
             "colorbar": {
              "outlinewidth": 0,
              "ticks": ""
             }
            },
            "type": "scattergl"
           }
          ],
          "scattermapbox": [
           {
            "marker": {
             "colorbar": {
              "outlinewidth": 0,
              "ticks": ""
             }
            },
            "type": "scattermapbox"
           }
          ],
          "scatterpolar": [
           {
            "marker": {
             "colorbar": {
              "outlinewidth": 0,
              "ticks": ""
             }
            },
            "type": "scatterpolar"
           }
          ],
          "scatterpolargl": [
           {
            "marker": {
             "colorbar": {
              "outlinewidth": 0,
              "ticks": ""
             }
            },
            "type": "scatterpolargl"
           }
          ],
          "scatterternary": [
           {
            "marker": {
             "colorbar": {
              "outlinewidth": 0,
              "ticks": ""
             }
            },
            "type": "scatterternary"
           }
          ],
          "surface": [
           {
            "colorbar": {
             "outlinewidth": 0,
             "ticks": ""
            },
            "colorscale": [
             [
              0,
              "#0d0887"
             ],
             [
              0.1111111111111111,
              "#46039f"
             ],
             [
              0.2222222222222222,
              "#7201a8"
             ],
             [
              0.3333333333333333,
              "#9c179e"
             ],
             [
              0.4444444444444444,
              "#bd3786"
             ],
             [
              0.5555555555555556,
              "#d8576b"
             ],
             [
              0.6666666666666666,
              "#ed7953"
             ],
             [
              0.7777777777777778,
              "#fb9f3a"
             ],
             [
              0.8888888888888888,
              "#fdca26"
             ],
             [
              1,
              "#f0f921"
             ]
            ],
            "type": "surface"
           }
          ],
          "table": [
           {
            "cells": {
             "fill": {
              "color": "#EBF0F8"
             },
             "line": {
              "color": "white"
             }
            },
            "header": {
             "fill": {
              "color": "#C8D4E3"
             },
             "line": {
              "color": "white"
             }
            },
            "type": "table"
           }
          ]
         },
         "layout": {
          "annotationdefaults": {
           "arrowcolor": "#2a3f5f",
           "arrowhead": 0,
           "arrowwidth": 1
          },
          "autotypenumbers": "strict",
          "coloraxis": {
           "colorbar": {
            "outlinewidth": 0,
            "ticks": ""
           }
          },
          "colorscale": {
           "diverging": [
            [
             0,
             "#8e0152"
            ],
            [
             0.1,
             "#c51b7d"
            ],
            [
             0.2,
             "#de77ae"
            ],
            [
             0.3,
             "#f1b6da"
            ],
            [
             0.4,
             "#fde0ef"
            ],
            [
             0.5,
             "#f7f7f7"
            ],
            [
             0.6,
             "#e6f5d0"
            ],
            [
             0.7,
             "#b8e186"
            ],
            [
             0.8,
             "#7fbc41"
            ],
            [
             0.9,
             "#4d9221"
            ],
            [
             1,
             "#276419"
            ]
           ],
           "sequential": [
            [
             0,
             "#0d0887"
            ],
            [
             0.1111111111111111,
             "#46039f"
            ],
            [
             0.2222222222222222,
             "#7201a8"
            ],
            [
             0.3333333333333333,
             "#9c179e"
            ],
            [
             0.4444444444444444,
             "#bd3786"
            ],
            [
             0.5555555555555556,
             "#d8576b"
            ],
            [
             0.6666666666666666,
             "#ed7953"
            ],
            [
             0.7777777777777778,
             "#fb9f3a"
            ],
            [
             0.8888888888888888,
             "#fdca26"
            ],
            [
             1,
             "#f0f921"
            ]
           ],
           "sequentialminus": [
            [
             0,
             "#0d0887"
            ],
            [
             0.1111111111111111,
             "#46039f"
            ],
            [
             0.2222222222222222,
             "#7201a8"
            ],
            [
             0.3333333333333333,
             "#9c179e"
            ],
            [
             0.4444444444444444,
             "#bd3786"
            ],
            [
             0.5555555555555556,
             "#d8576b"
            ],
            [
             0.6666666666666666,
             "#ed7953"
            ],
            [
             0.7777777777777778,
             "#fb9f3a"
            ],
            [
             0.8888888888888888,
             "#fdca26"
            ],
            [
             1,
             "#f0f921"
            ]
           ]
          },
          "colorway": [
           "#636efa",
           "#EF553B",
           "#00cc96",
           "#ab63fa",
           "#FFA15A",
           "#19d3f3",
           "#FF6692",
           "#B6E880",
           "#FF97FF",
           "#FECB52"
          ],
          "font": {
           "color": "#2a3f5f"
          },
          "geo": {
           "bgcolor": "white",
           "lakecolor": "white",
           "landcolor": "#E5ECF6",
           "showlakes": true,
           "showland": true,
           "subunitcolor": "white"
          },
          "hoverlabel": {
           "align": "left"
          },
          "hovermode": "closest",
          "mapbox": {
           "style": "light"
          },
          "paper_bgcolor": "white",
          "plot_bgcolor": "#E5ECF6",
          "polar": {
           "angularaxis": {
            "gridcolor": "white",
            "linecolor": "white",
            "ticks": ""
           },
           "bgcolor": "#E5ECF6",
           "radialaxis": {
            "gridcolor": "white",
            "linecolor": "white",
            "ticks": ""
           }
          },
          "scene": {
           "xaxis": {
            "backgroundcolor": "#E5ECF6",
            "gridcolor": "white",
            "gridwidth": 2,
            "linecolor": "white",
            "showbackground": true,
            "ticks": "",
            "zerolinecolor": "white"
           },
           "yaxis": {
            "backgroundcolor": "#E5ECF6",
            "gridcolor": "white",
            "gridwidth": 2,
            "linecolor": "white",
            "showbackground": true,
            "ticks": "",
            "zerolinecolor": "white"
           },
           "zaxis": {
            "backgroundcolor": "#E5ECF6",
            "gridcolor": "white",
            "gridwidth": 2,
            "linecolor": "white",
            "showbackground": true,
            "ticks": "",
            "zerolinecolor": "white"
           }
          },
          "shapedefaults": {
           "line": {
            "color": "#2a3f5f"
           }
          },
          "ternary": {
           "aaxis": {
            "gridcolor": "white",
            "linecolor": "white",
            "ticks": ""
           },
           "baxis": {
            "gridcolor": "white",
            "linecolor": "white",
            "ticks": ""
           },
           "bgcolor": "#E5ECF6",
           "caxis": {
            "gridcolor": "white",
            "linecolor": "white",
            "ticks": ""
           }
          },
          "title": {
           "x": 0.05
          },
          "xaxis": {
           "automargin": true,
           "gridcolor": "white",
           "linecolor": "white",
           "ticks": "",
           "title": {
            "standoff": 15
           },
           "zerolinecolor": "white",
           "zerolinewidth": 2
          },
          "yaxis": {
           "automargin": true,
           "gridcolor": "white",
           "linecolor": "white",
           "ticks": "",
           "title": {
            "standoff": 15
           },
           "zerolinecolor": "white",
           "zerolinewidth": 2
          }
         }
        },
        "xaxis": {
         "anchor": "y",
         "domain": [
          0,
          1
         ],
         "title": {
          "text": "date"
         }
        },
        "yaxis": {
         "anchor": "x",
         "domain": [
          0,
          1
         ],
         "title": {
          "text": "value"
         }
        }
       }
      },
      "text/html": [
       "<div>                        <script type=\"text/javascript\">window.PlotlyConfig = {MathJaxConfig: 'local'};</script>\n",
       "        <script src=\"https://cdn.plot.ly/plotly-2.12.1.min.js\"></script>                <div id=\"418095d7-3693-4fbd-84f8-1f3c13bb869d\" class=\"plotly-graph-div\" style=\"height:100%; width:100%;\"></div>            <script type=\"text/javascript\">                                    window.PLOTLYENV=window.PLOTLYENV || {};                                    if (document.getElementById(\"418095d7-3693-4fbd-84f8-1f3c13bb869d\")) {                    Plotly.newPlot(                        \"418095d7-3693-4fbd-84f8-1f3c13bb869d\",                        [{\"hovertemplate\":\"variable=Sharpe<br>date=%{x}<br>value=%{y}<extra></extra>\",\"legendgroup\":\"Sharpe\",\"line\":{\"color\":\"#636efa\",\"dash\":\"solid\"},\"marker\":{\"symbol\":\"circle\"},\"mode\":\"lines\",\"name\":\"Sharpe\",\"orientation\":\"v\",\"showlegend\":true,\"x\":[\"2011-09-30T00:00:00\",\"2011-10-31T00:00:00\",\"2011-11-30T00:00:00\",\"2011-12-30T00:00:00\",\"2012-01-31T00:00:00\",\"2012-02-29T00:00:00\",\"2012-03-30T00:00:00\",\"2012-04-27T00:00:00\",\"2012-05-31T00:00:00\",\"2012-06-29T00:00:00\",\"2012-07-31T00:00:00\",\"2012-08-31T00:00:00\",\"2012-09-28T00:00:00\",\"2012-10-31T00:00:00\",\"2012-11-30T00:00:00\"],\"xaxis\":\"x\",\"y\":[null,null,null,null,null,null,null,0.0,3.464101615137755,3.464101615137755,3.464101615137755,4.69041575982343,2.345207879911715,2.345207879911715,2.345207879911715],\"yaxis\":\"y\",\"type\":\"scatter\"}],                        {\"template\":{\"data\":{\"histogram2dcontour\":[{\"type\":\"histogram2dcontour\",\"colorbar\":{\"outlinewidth\":0,\"ticks\":\"\"},\"colorscale\":[[0.0,\"#0d0887\"],[0.1111111111111111,\"#46039f\"],[0.2222222222222222,\"#7201a8\"],[0.3333333333333333,\"#9c179e\"],[0.4444444444444444,\"#bd3786\"],[0.5555555555555556,\"#d8576b\"],[0.6666666666666666,\"#ed7953\"],[0.7777777777777778,\"#fb9f3a\"],[0.8888888888888888,\"#fdca26\"],[1.0,\"#f0f921\"]]}],\"choropleth\":[{\"type\":\"choropleth\",\"colorbar\":{\"outlinewidth\":0,\"ticks\":\"\"}}],\"histogram2d\":[{\"type\":\"histogram2d\",\"colorbar\":{\"outlinewidth\":0,\"ticks\":\"\"},\"colorscale\":[[0.0,\"#0d0887\"],[0.1111111111111111,\"#46039f\"],[0.2222222222222222,\"#7201a8\"],[0.3333333333333333,\"#9c179e\"],[0.4444444444444444,\"#bd3786\"],[0.5555555555555556,\"#d8576b\"],[0.6666666666666666,\"#ed7953\"],[0.7777777777777778,\"#fb9f3a\"],[0.8888888888888888,\"#fdca26\"],[1.0,\"#f0f921\"]]}],\"heatmap\":[{\"type\":\"heatmap\",\"colorbar\":{\"outlinewidth\":0,\"ticks\":\"\"},\"colorscale\":[[0.0,\"#0d0887\"],[0.1111111111111111,\"#46039f\"],[0.2222222222222222,\"#7201a8\"],[0.3333333333333333,\"#9c179e\"],[0.4444444444444444,\"#bd3786\"],[0.5555555555555556,\"#d8576b\"],[0.6666666666666666,\"#ed7953\"],[0.7777777777777778,\"#fb9f3a\"],[0.8888888888888888,\"#fdca26\"],[1.0,\"#f0f921\"]]}],\"heatmapgl\":[{\"type\":\"heatmapgl\",\"colorbar\":{\"outlinewidth\":0,\"ticks\":\"\"},\"colorscale\":[[0.0,\"#0d0887\"],[0.1111111111111111,\"#46039f\"],[0.2222222222222222,\"#7201a8\"],[0.3333333333333333,\"#9c179e\"],[0.4444444444444444,\"#bd3786\"],[0.5555555555555556,\"#d8576b\"],[0.6666666666666666,\"#ed7953\"],[0.7777777777777778,\"#fb9f3a\"],[0.8888888888888888,\"#fdca26\"],[1.0,\"#f0f921\"]]}],\"contourcarpet\":[{\"type\":\"contourcarpet\",\"colorbar\":{\"outlinewidth\":0,\"ticks\":\"\"}}],\"contour\":[{\"type\":\"contour\",\"colorbar\":{\"outlinewidth\":0,\"ticks\":\"\"},\"colorscale\":[[0.0,\"#0d0887\"],[0.1111111111111111,\"#46039f\"],[0.2222222222222222,\"#7201a8\"],[0.3333333333333333,\"#9c179e\"],[0.4444444444444444,\"#bd3786\"],[0.5555555555555556,\"#d8576b\"],[0.6666666666666666,\"#ed7953\"],[0.7777777777777778,\"#fb9f3a\"],[0.8888888888888888,\"#fdca26\"],[1.0,\"#f0f921\"]]}],\"surface\":[{\"type\":\"surface\",\"colorbar\":{\"outlinewidth\":0,\"ticks\":\"\"},\"colorscale\":[[0.0,\"#0d0887\"],[0.1111111111111111,\"#46039f\"],[0.2222222222222222,\"#7201a8\"],[0.3333333333333333,\"#9c179e\"],[0.4444444444444444,\"#bd3786\"],[0.5555555555555556,\"#d8576b\"],[0.6666666666666666,\"#ed7953\"],[0.7777777777777778,\"#fb9f3a\"],[0.8888888888888888,\"#fdca26\"],[1.0,\"#f0f921\"]]}],\"mesh3d\":[{\"type\":\"mesh3d\",\"colorbar\":{\"outlinewidth\":0,\"ticks\":\"\"}}],\"scatter\":[{\"fillpattern\":{\"fillmode\":\"overlay\",\"size\":10,\"solidity\":0.2},\"type\":\"scatter\"}],\"parcoords\":[{\"type\":\"parcoords\",\"line\":{\"colorbar\":{\"outlinewidth\":0,\"ticks\":\"\"}}}],\"scatterpolargl\":[{\"type\":\"scatterpolargl\",\"marker\":{\"colorbar\":{\"outlinewidth\":0,\"ticks\":\"\"}}}],\"bar\":[{\"error_x\":{\"color\":\"#2a3f5f\"},\"error_y\":{\"color\":\"#2a3f5f\"},\"marker\":{\"line\":{\"color\":\"#E5ECF6\",\"width\":0.5},\"pattern\":{\"fillmode\":\"overlay\",\"size\":10,\"solidity\":0.2}},\"type\":\"bar\"}],\"scattergeo\":[{\"type\":\"scattergeo\",\"marker\":{\"colorbar\":{\"outlinewidth\":0,\"ticks\":\"\"}}}],\"scatterpolar\":[{\"type\":\"scatterpolar\",\"marker\":{\"colorbar\":{\"outlinewidth\":0,\"ticks\":\"\"}}}],\"histogram\":[{\"marker\":{\"pattern\":{\"fillmode\":\"overlay\",\"size\":10,\"solidity\":0.2}},\"type\":\"histogram\"}],\"scattergl\":[{\"type\":\"scattergl\",\"marker\":{\"colorbar\":{\"outlinewidth\":0,\"ticks\":\"\"}}}],\"scatter3d\":[{\"type\":\"scatter3d\",\"line\":{\"colorbar\":{\"outlinewidth\":0,\"ticks\":\"\"}},\"marker\":{\"colorbar\":{\"outlinewidth\":0,\"ticks\":\"\"}}}],\"scattermapbox\":[{\"type\":\"scattermapbox\",\"marker\":{\"colorbar\":{\"outlinewidth\":0,\"ticks\":\"\"}}}],\"scatterternary\":[{\"type\":\"scatterternary\",\"marker\":{\"colorbar\":{\"outlinewidth\":0,\"ticks\":\"\"}}}],\"scattercarpet\":[{\"type\":\"scattercarpet\",\"marker\":{\"colorbar\":{\"outlinewidth\":0,\"ticks\":\"\"}}}],\"carpet\":[{\"aaxis\":{\"endlinecolor\":\"#2a3f5f\",\"gridcolor\":\"white\",\"linecolor\":\"white\",\"minorgridcolor\":\"white\",\"startlinecolor\":\"#2a3f5f\"},\"baxis\":{\"endlinecolor\":\"#2a3f5f\",\"gridcolor\":\"white\",\"linecolor\":\"white\",\"minorgridcolor\":\"white\",\"startlinecolor\":\"#2a3f5f\"},\"type\":\"carpet\"}],\"table\":[{\"cells\":{\"fill\":{\"color\":\"#EBF0F8\"},\"line\":{\"color\":\"white\"}},\"header\":{\"fill\":{\"color\":\"#C8D4E3\"},\"line\":{\"color\":\"white\"}},\"type\":\"table\"}],\"barpolar\":[{\"marker\":{\"line\":{\"color\":\"#E5ECF6\",\"width\":0.5},\"pattern\":{\"fillmode\":\"overlay\",\"size\":10,\"solidity\":0.2}},\"type\":\"barpolar\"}],\"pie\":[{\"automargin\":true,\"type\":\"pie\"}]},\"layout\":{\"autotypenumbers\":\"strict\",\"colorway\":[\"#636efa\",\"#EF553B\",\"#00cc96\",\"#ab63fa\",\"#FFA15A\",\"#19d3f3\",\"#FF6692\",\"#B6E880\",\"#FF97FF\",\"#FECB52\"],\"font\":{\"color\":\"#2a3f5f\"},\"hovermode\":\"closest\",\"hoverlabel\":{\"align\":\"left\"},\"paper_bgcolor\":\"white\",\"plot_bgcolor\":\"#E5ECF6\",\"polar\":{\"bgcolor\":\"#E5ECF6\",\"angularaxis\":{\"gridcolor\":\"white\",\"linecolor\":\"white\",\"ticks\":\"\"},\"radialaxis\":{\"gridcolor\":\"white\",\"linecolor\":\"white\",\"ticks\":\"\"}},\"ternary\":{\"bgcolor\":\"#E5ECF6\",\"aaxis\":{\"gridcolor\":\"white\",\"linecolor\":\"white\",\"ticks\":\"\"},\"baxis\":{\"gridcolor\":\"white\",\"linecolor\":\"white\",\"ticks\":\"\"},\"caxis\":{\"gridcolor\":\"white\",\"linecolor\":\"white\",\"ticks\":\"\"}},\"coloraxis\":{\"colorbar\":{\"outlinewidth\":0,\"ticks\":\"\"}},\"colorscale\":{\"sequential\":[[0.0,\"#0d0887\"],[0.1111111111111111,\"#46039f\"],[0.2222222222222222,\"#7201a8\"],[0.3333333333333333,\"#9c179e\"],[0.4444444444444444,\"#bd3786\"],[0.5555555555555556,\"#d8576b\"],[0.6666666666666666,\"#ed7953\"],[0.7777777777777778,\"#fb9f3a\"],[0.8888888888888888,\"#fdca26\"],[1.0,\"#f0f921\"]],\"sequentialminus\":[[0.0,\"#0d0887\"],[0.1111111111111111,\"#46039f\"],[0.2222222222222222,\"#7201a8\"],[0.3333333333333333,\"#9c179e\"],[0.4444444444444444,\"#bd3786\"],[0.5555555555555556,\"#d8576b\"],[0.6666666666666666,\"#ed7953\"],[0.7777777777777778,\"#fb9f3a\"],[0.8888888888888888,\"#fdca26\"],[1.0,\"#f0f921\"]],\"diverging\":[[0,\"#8e0152\"],[0.1,\"#c51b7d\"],[0.2,\"#de77ae\"],[0.3,\"#f1b6da\"],[0.4,\"#fde0ef\"],[0.5,\"#f7f7f7\"],[0.6,\"#e6f5d0\"],[0.7,\"#b8e186\"],[0.8,\"#7fbc41\"],[0.9,\"#4d9221\"],[1,\"#276419\"]]},\"xaxis\":{\"gridcolor\":\"white\",\"linecolor\":\"white\",\"ticks\":\"\",\"title\":{\"standoff\":15},\"zerolinecolor\":\"white\",\"automargin\":true,\"zerolinewidth\":2},\"yaxis\":{\"gridcolor\":\"white\",\"linecolor\":\"white\",\"ticks\":\"\",\"title\":{\"standoff\":15},\"zerolinecolor\":\"white\",\"automargin\":true,\"zerolinewidth\":2},\"scene\":{\"xaxis\":{\"backgroundcolor\":\"#E5ECF6\",\"gridcolor\":\"white\",\"linecolor\":\"white\",\"showbackground\":true,\"ticks\":\"\",\"zerolinecolor\":\"white\",\"gridwidth\":2},\"yaxis\":{\"backgroundcolor\":\"#E5ECF6\",\"gridcolor\":\"white\",\"linecolor\":\"white\",\"showbackground\":true,\"ticks\":\"\",\"zerolinecolor\":\"white\",\"gridwidth\":2},\"zaxis\":{\"backgroundcolor\":\"#E5ECF6\",\"gridcolor\":\"white\",\"linecolor\":\"white\",\"showbackground\":true,\"ticks\":\"\",\"zerolinecolor\":\"white\",\"gridwidth\":2}},\"shapedefaults\":{\"line\":{\"color\":\"#2a3f5f\"}},\"annotationdefaults\":{\"arrowcolor\":\"#2a3f5f\",\"arrowhead\":0,\"arrowwidth\":1},\"geo\":{\"bgcolor\":\"white\",\"landcolor\":\"#E5ECF6\",\"subunitcolor\":\"white\",\"showland\":true,\"showlakes\":true,\"lakecolor\":\"white\"},\"title\":{\"x\":0.05},\"mapbox\":{\"style\":\"light\"}}},\"xaxis\":{\"anchor\":\"y\",\"domain\":[0.0,1.0],\"title\":{\"text\":\"date\"}},\"yaxis\":{\"anchor\":\"x\",\"domain\":[0.0,1.0],\"title\":{\"text\":\"value\"}},\"legend\":{\"title\":{\"text\":\"variable\"},\"tracegroupgap\":0},\"margin\":{\"t\":60}},                        {\"responsive\": true}                    )                };                            </script>        </div>"
      ],
      "text/plain": [
       "Figure({\n",
       "    'data': [{'hovertemplate': 'variable=Sharpe<br>date=%{x}<br>value=%{y}<extra></extra>',\n",
       "              'legendgroup': 'Sharpe',\n",
       "              'line': {'color': '#636efa', 'dash': 'solid'},\n",
       "              'marker': {'symbol': 'circle'},\n",
       "              'mode': 'lines',\n",
       "              'name': 'Sharpe',\n",
       "              'orientation': 'v',\n",
       "              'showlegend': True,\n",
       "              'type': 'scatter',\n",
       "              'x': array([datetime.datetime(2011, 9, 30, 0, 0),\n",
       "                          datetime.datetime(2011, 10, 31, 0, 0),\n",
       "                          datetime.datetime(2011, 11, 30, 0, 0),\n",
       "                          datetime.datetime(2011, 12, 30, 0, 0),\n",
       "                          datetime.datetime(2012, 1, 31, 0, 0),\n",
       "                          datetime.datetime(2012, 2, 29, 0, 0),\n",
       "                          datetime.datetime(2012, 3, 30, 0, 0),\n",
       "                          datetime.datetime(2012, 4, 27, 0, 0),\n",
       "                          datetime.datetime(2012, 5, 31, 0, 0),\n",
       "                          datetime.datetime(2012, 6, 29, 0, 0),\n",
       "                          datetime.datetime(2012, 7, 31, 0, 0),\n",
       "                          datetime.datetime(2012, 8, 31, 0, 0),\n",
       "                          datetime.datetime(2012, 9, 28, 0, 0),\n",
       "                          datetime.datetime(2012, 10, 31, 0, 0),\n",
       "                          datetime.datetime(2012, 11, 30, 0, 0)], dtype=object),\n",
       "              'xaxis': 'x',\n",
       "              'y': array([       inf,        inf,        inf,        inf,        inf,        inf,\n",
       "                                 inf, 0.        , 3.46410162, 3.46410162, 3.46410162, 4.69041576,\n",
       "                          2.34520788, 2.34520788, 2.34520788]),\n",
       "              'yaxis': 'y'}],\n",
       "    'layout': {'legend': {'title': {'text': 'variable'}, 'tracegroupgap': 0},\n",
       "               'margin': {'t': 60},\n",
       "               'template': '...',\n",
       "               'xaxis': {'anchor': 'y', 'domain': [0.0, 1.0], 'title': {'text': 'date'}},\n",
       "               'yaxis': {'anchor': 'x', 'domain': [0.0, 1.0], 'title': {'text': 'value'}}}\n",
       "})"
      ]
     },
     "execution_count": 6,
     "metadata": {},
     "output_type": "execute_result"
    }
   ],
   "source": [
    "import plotly.express as px\n",
    "\n",
    "px.line(portfolio_1.data, x='date', y=['Sharpe'])"
   ]
  },
  {
   "cell_type": "code",
   "execution_count": 60,
   "id": "a51aaa64",
   "metadata": {},
   "outputs": [
    {
     "data": {
      "image/png": "[encoded data removed]",
      "text/plain": [
       "<Figure size 800x1000 with 4 Axes>"
      ]
     },
     "metadata": {},
     "output_type": "display_data"
    }
   ],
   "source": [
    "import seaborn as sns\n",
    "import matplotlib.pyplot as plt\n",
    "import pandas as pd\n",
    "import numpy as np\n",
    "\n",
    "# Define the weights and returns data\n",
    "weights = {\"Stock_1\": 0.4, \"Stock_2\": 0.1, \"Stock_3\": 0.5}\n",
    "returns = pd.DataFrame(\n",
    "    {\"Stock_1\": [1, 2, 3, 4], \"Stock_2\": [0, 1, 0, 1], \"Stock_3\": [6, 5, 4, 1]},\n",
    "    index=[\"time_1\", \"time_2\", \"time_3\", \"time_4\"],\n",
    ")\n",
    "\n",
    "# Create the combined dataframe for heatmap\n",
    "df_heatmap = pd.concat(\n",
    "    [pd.DataFrame(weights, index=[\"weights\"]), returns.reindex([\"time_1\", \"time_2\", \"time_3\", \"time_4\"])]\n",
    ")\n",
    "\n",
    "# Set the desired column order\n",
    "column_order = [\"Stock_1\", \"Stock_2\", \"Stock_3\"]\n",
    "\n",
    "# Reorder the columns in the dataframe\n",
    "df_heatmap = df_heatmap[column_order]\n",
    "\n",
    "# Create the diverging color palettes\n",
    "cmap_weights = sns.color_palette(\"gray_r\", as_cmap=True)\n",
    "cmap_returns = sns.color_palette(\"coolwarm\", as_cmap=True)\n",
    "\n",
    "# Create a grid of subplots\n",
    "fig, axes = plt.subplots(nrows=2, figsize=(8, 10), gridspec_kw={'height_ratios': [1, len(column_order)]})\n",
    "\n",
    "# Plot the heatmap for weights\n",
    "sns.heatmap(\n",
    "    df_heatmap.iloc[:1, :],\n",
    "    cmap=cmap_weights,\n",
    "    annot=True,\n",
    "    fmt=\".1f\",\n",
    "    cbar=True,\n",
    "    ax=axes[0],\n",
    "    xticklabels=False,\n",
    "    vmin=0\n",
    ")\n",
    "axes[0].set_title(\"Weights Heatmap\")\n",
    "\n",
    "extreme_val = abs(returns).max().max()\n",
    "\n",
    "# Plot the heatmap for returns\n",
    "sns.heatmap(\n",
    "    df_heatmap.iloc[1:, :],\n",
    "    cmap=cmap_returns,\n",
    "    annot=True,\n",
    "    fmt=\".1f\",\n",
    "    cbar=True,\n",
    "    ax=axes[1],\n",
    "    vmin=-extreme_val,\n",
    "    vmax=extreme_val\n",
    ")\n",
    "axes[1].set_title(\"Returns Heatmap\")\n",
    "\n",
    "# Adjust the layout\n",
    "plt.tight_layout()\n",
    "\n",
    "# Show the plot\n",
    "plt.show()"
   ]
  },
  {
   "cell_type": "code",
   "execution_count": 84,
   "id": "39f46f0c",
   "metadata": {},
   "outputs": [
    {
     "data": {
      "image/png": "[encoded data removed]",
      "text/plain": [
       "<Figure size 800x1000 with 4 Axes>"
      ]
     },
     "metadata": {},
     "output_type": "display_data"
    }
   ],
   "source": [
    "import seaborn as sns\n",
    "import matplotlib.pyplot as plt\n",
    "import pandas as pd\n",
    "import numpy as np\n",
    "\n",
    "# Define the weights and returns data\n",
    "returns = {\"time_1\": 0.4, \"time_2\": 0.1, \"time_3\": 0.5}\n",
    "allocations = pd.DataFrame(\n",
    "    {\"time_1\": [1, 2, 3, 4], \"time_2\": [0, 1, 0, 1], \"time_3\": [6, 5, 4, 1]},\n",
    "    index=[\"stock_1\", \"stock_2\", \"stock_3\", \"stock_4\"],\n",
    ")\n",
    "\n",
    "# Create the combined dataframe for heatmap\n",
    "df_heatmap = pd.concat(\n",
    "    [pd.DataFrame(returns, index=[\"returns\"]), allocations.reindex([\"stock_1\", \"stock_2\", \"stock_3\", \"stock_4\"])]\n",
    ")\n",
    "\n",
    "# Set the desired column order\n",
    "column_order = [\"time_1\", \"time_2\", \"time_3\"]\n",
    "\n",
    "# Reorder the columns in the dataframe\n",
    "df_heatmap = df_heatmap[column_order]\n",
    "\n",
    "# Create the diverging color palettes\n",
    "cmap_weights = sns.color_palette(\"coolwarm\", as_cmap=True)\n",
    "cmap_returns = sns.color_palette(\"gray_r\", as_cmap=True)\n",
    "\n",
    "# Create a grid of subplots\n",
    "fig, axes = plt.subplots(nrows=2, figsize=(8, 10), gridspec_kw={'height_ratios': [1, len(column_order)]})\n",
    "\n",
    "extreme_val = abs(np.array(list((returns.values())))).max()\n",
    "\n",
    "# Plot the heatmap for weights\n",
    "sns.heatmap(\n",
    "    df_heatmap.iloc[:1, :],\n",
    "    cmap=cmap_weights,\n",
    "    annot=True,\n",
    "    fmt=\".1f\",\n",
    "    cbar=True,\n",
    "    ax=axes[0],\n",
    "    xticklabels=False,\n",
    "    vmin=-extreme_val,\n",
    "    vmax=extreme_val\n",
    ")\n",
    "axes[0].set_title(\"Returns Heatmap\")\n",
    "\n",
    "# Plot the heatmap for returns\n",
    "sns.heatmap(\n",
    "    df_heatmap.iloc[1:, :],\n",
    "    cmap=cmap_returns,\n",
    "    annot=True,\n",
    "    fmt=\".1f\",\n",
    "    cbar=True,\n",
    "    ax=axes[1],\n",
    "    vmin=0\n",
    ")\n",
    "axes[1].set_title(\"Portfolio Allocations Heatmap\")\n",
    "\n",
    "# Adjust the layout\n",
    "plt.tight_layout()\n",
    "\n",
    "# Show the plot\n",
    "plt.show()"
   ]
  },
  {
   "cell_type": "code",
   "execution_count": 86,
   "id": "54b6f185",
   "metadata": {},
   "outputs": [
    {
     "data": {
      "image/png": "[encoded data removed]",
      "text/plain": [
       "<Figure size 800x1000 with 4 Axes>"
      ]
     },
     "metadata": {},
     "output_type": "display_data"
    }
   ],
   "source": [
    "# Define the weights and returns data\n",
    "returns = {\"time_1\": 0.4, \"time_2\": 0.1, \"time_3\": 0.5}\n",
    "component_returns = pd.DataFrame(\n",
    "    {\"time_1\": [1, 2, 3, 4], \"time_2\": [0, 1, 0, 1], \"time_3\": [6, 5, 4, 1]},\n",
    "    index=[\"stock_1\", \"stock_2\", \"stock_3\", \"stock_4\"],\n",
    ")\n",
    "\n",
    "# Create the combined dataframe for heatmap\n",
    "df_heatmap = pd.concat(\n",
    "    [pd.DataFrame(returns, index=[\"returns\"]), component_returns.reindex([\"stock_1\", \"stock_2\", \"stock_3\", \"stock_4\"])]\n",
    ")\n",
    "\n",
    "# Set the desired column order\n",
    "column_order = [\"time_1\", \"time_2\", \"time_3\"]\n",
    "\n",
    "# Reorder the columns in the dataframe\n",
    "df_heatmap = df_heatmap[column_order]\n",
    "\n",
    "# Create the diverging color palettes\n",
    "cmap_weights = sns.color_palette(\"coolwarm\", as_cmap=True)\n",
    "cmap_returns = sns.color_palette(\"coolwarm\", as_cmap=True)\n",
    "\n",
    "# Create a grid of subplots\n",
    "fig, axes = plt.subplots(nrows=2, figsize=(8, 10), gridspec_kw={'height_ratios': [1, len(column_order)]})\n",
    "\n",
    "extreme_val = abs(np.array(list((returns.values())))).max()\n",
    "component_returns_extreme = abs(component_returns).max().max()\n",
    "global_extreme = np.array([extreme_val, component_returns_extreme]).max()\n",
    "\n",
    "# Plot the heatmap for weights\n",
    "sns.heatmap(\n",
    "    df_heatmap.iloc[:1, :],\n",
    "    cmap=cmap_weights,\n",
    "    annot=True,\n",
    "    fmt=\".1f\",\n",
    "    cbar=True,\n",
    "    ax=axes[0],\n",
    "    xticklabels=False,\n",
    "    vmin=-global_extreme,\n",
    "    vmax=global_extreme\n",
    ")\n",
    "axes[0].set_title(\"Returns Heatmap\")\n",
    "\n",
    "# Plot the heatmap for returns\n",
    "sns.heatmap(\n",
    "    df_heatmap.iloc[1:, :],\n",
    "    cmap=cmap_returns,\n",
    "    annot=True,\n",
    "    fmt=\".1f\",\n",
    "    cbar=True,\n",
    "    ax=axes[1],\n",
    "    vmin=-global_extreme,\n",
    "    vmax=global_extreme\n",
    ")\n",
    "axes[1].set_title(\"Component Returns Heatmap\")\n",
    "\n",
    "# Adjust the layout\n",
    "plt.tight_layout()\n",
    "\n",
    "# Show the plot\n",
    "plt.show()"
   ]
  },
  {
   "cell_type": "code",
   "execution_count": 81,
   "id": "d9243652",
   "metadata": {},
   "outputs": [
    {
     "ename": "TypeError",
     "evalue": "'numpy.ndarray' object is not callable",
     "output_type": "error",
     "traceback": [
      "\u001b[0;31m---------------------------------------------------------------------------\u001b[0m",
      "\u001b[0;31mTypeError\u001b[0m                                 Traceback (most recent call last)",
      "Cell \u001b[0;32mIn[81], line 1\u001b[0m\n\u001b[0;32m----> 1\u001b[0m \u001b[39mabs\u001b[39m(component_returns\u001b[39m.\u001b[39;49mvalues())\n",
      "\u001b[0;31mTypeError\u001b[0m: 'numpy.ndarray' object is not callable"
     ]
    }
   ],
   "source": [
    "abs(component_returns.values())"
   ]
  },
  {
   "cell_type": "code",
   "execution_count": null,
   "id": "d5d6a0cd",
   "metadata": {},
   "outputs": [],
   "source": []
  }
 ],
 "metadata": {
  "kernelspec": {
   "display_name": "Python 3 (ipykernel)",
   "language": "python",
   "name": "python3"
  },
  "language_info": {
   "codemirror_mode": {
    "name": "ipython",
    "version": 3
   },
   "file_extension": ".py",
   "mimetype": "text/x-python",
   "name": "python",
   "nbconvert_exporter": "python",
   "pygments_lexer": "ipython3",
   "version": "3.11.3"
  }
 },
 "nbformat": 4,
 "nbformat_minor": 5
}
